{
 "cells": [
  {
   "cell_type": "markdown",
   "id": "4d4fc270",
   "metadata": {},
   "source": [
    "# Loading BOQ Excel Data\n",
    "\n",
    "This notebook loads and processes the BOQ (Bill of Quantities) Excel file."
   ]
  },
  {
   "cell_type": "code",
   "execution_count": 1,
   "id": "8516506d",
   "metadata": {},
   "outputs": [
    {
     "name": "stdout",
     "output_type": "stream",
     "text": [
      "Current working directory: c:\\Work\\Sync\\AR3D\\3 Web\\app611allboq\\py\n"
     ]
    }
   ],
   "source": [
    "# Import required libraries\n",
    "import pandas as pd\n",
    "import numpy as np\n",
    "import os\n",
    "\n",
    "# Display current working directory\n",
    "print(f\"Current working directory: {os.getcwd()}\")"
   ]
  },
  {
   "cell_type": "code",
   "execution_count": 2,
   "id": "b9e8cfb2",
   "metadata": {},
   "outputs": [
    {
     "name": "stdout",
     "output_type": "stream",
     "text": [
      "Successfully loaded bq.xlsx\n",
      "Shape: (595, 7)\n"
     ]
    },
    {
     "data": {
      "text/html": [
       "<div>\n",
       "<style scoped>\n",
       "    .dataframe tbody tr th:only-of-type {\n",
       "        vertical-align: middle;\n",
       "    }\n",
       "\n",
       "    .dataframe tbody tr th {\n",
       "        vertical-align: top;\n",
       "    }\n",
       "\n",
       "    .dataframe thead th {\n",
       "        text-align: right;\n",
       "    }\n",
       "</style>\n",
       "<table border=\"1\" class=\"dataframe\">\n",
       "  <thead>\n",
       "    <tr style=\"text-align: right;\">\n",
       "      <th></th>\n",
       "      <th>Unnamed: 0</th>\n",
       "      <th>รายการ</th>\n",
       "      <th>จำนวน</th>\n",
       "      <th>หน่วย</th>\n",
       "      <th>ราคาวัสดุ</th>\n",
       "      <th>ค่าแรงงาน</th>\n",
       "      <th>Unnamed: 6</th>\n",
       "    </tr>\n",
       "  </thead>\n",
       "  <tbody>\n",
       "    <tr>\n",
       "      <th>0</th>\n",
       "      <td>โรงอาหาร</td>\n",
       "      <td>งานรื้อถอนและเตรียมพื้นที่</td>\n",
       "      <td>NaN</td>\n",
       "      <td>NaN</td>\n",
       "      <td>NaN</td>\n",
       "      <td>NaN</td>\n",
       "      <td>2020.0</td>\n",
       "    </tr>\n",
       "    <tr>\n",
       "      <th>1</th>\n",
       "      <td>NaN</td>\n",
       "      <td>รื้อถอนโครงสร้างพื้น คาน เสา</td>\n",
       "      <td>1</td>\n",
       "      <td>ตร.ม.</td>\n",
       "      <td>-</td>\n",
       "      <td>250</td>\n",
       "      <td>2020.0</td>\n",
       "    </tr>\n",
       "    <tr>\n",
       "      <th>2</th>\n",
       "      <td>NaN</td>\n",
       "      <td>รื้อถอนเสาโครงสร้าง</td>\n",
       "      <td>1</td>\n",
       "      <td>ต้น</td>\n",
       "      <td>-</td>\n",
       "      <td>1000</td>\n",
       "      <td>2020.0</td>\n",
       "    </tr>\n",
       "    <tr>\n",
       "      <th>3</th>\n",
       "      <td>NaN</td>\n",
       "      <td>รื้อถอนโครงสร้างหลังคา</td>\n",
       "      <td>1</td>\n",
       "      <td>ตร.ม.</td>\n",
       "      <td>-</td>\n",
       "      <td>50</td>\n",
       "      <td>2020.0</td>\n",
       "    </tr>\n",
       "    <tr>\n",
       "      <th>4</th>\n",
       "      <td>NaN</td>\n",
       "      <td>รื้อถอนวัสดุมุง</td>\n",
       "      <td>1</td>\n",
       "      <td>ตร.ม.</td>\n",
       "      <td>-</td>\n",
       "      <td>25</td>\n",
       "      <td>2020.0</td>\n",
       "    </tr>\n",
       "  </tbody>\n",
       "</table>\n",
       "</div>"
      ],
      "text/plain": [
       "  Unnamed: 0                        รายการ จำนวน  หน่วย ราคาวัสดุ ค่าแรงงาน  \\\n",
       "0   โรงอาหาร    งานรื้อถอนและเตรียมพื้นที่   NaN    NaN       NaN       NaN   \n",
       "1        NaN  รื้อถอนโครงสร้างพื้น คาน เสา     1  ตร.ม.         -       250   \n",
       "2        NaN           รื้อถอนเสาโครงสร้าง     1    ต้น         -      1000   \n",
       "3        NaN        รื้อถอนโครงสร้างหลังคา     1  ตร.ม.         -        50   \n",
       "4        NaN               รื้อถอนวัสดุมุง     1  ตร.ม.         -        25   \n",
       "\n",
       "   Unnamed: 6  \n",
       "0      2020.0  \n",
       "1      2020.0  \n",
       "2      2020.0  \n",
       "3      2020.0  \n",
       "4      2020.0  "
      ]
     },
     "metadata": {},
     "output_type": "display_data"
    }
   ],
   "source": [
    "# Define the path to the Excel file\n",
    "excel_file = 'bq.xlsx'\n",
    "\n",
    "# Load the Excel file into a pandas DataFrame\n",
    "try:\n",
    "    df = pd.read_excel(excel_file)\n",
    "    print(f\"Successfully loaded {excel_file}\")\n",
    "    print(f\"Shape: {df.shape}\")\n",
    "    # Display the first few rows of the DataFrame\n",
    "    display(df.head())\n",
    "except Exception as e:\n",
    "    print(f\"Error loading {excel_file}: {e}\")\n",
    "    # Try with an alternative path\n",
    "    try:\n",
    "        excel_file = '../py/bq.xlsx'\n",
    "        df = pd.read_excel(excel_file)\n",
    "        print(f\"Successfully loaded {excel_file}\")\n",
    "        print(f\"Shape: {df.shape}\")\n",
    "        # Display the first few rows of the DataFrame\n",
    "        display(df.head())\n",
    "    except Exception as e2:\n",
    "        print(f\"Error loading with alternative path: {e2}\")"
   ]
  },
  {
   "cell_type": "code",
   "execution_count": 3,
   "id": "2913f4ff",
   "metadata": {},
   "outputs": [
    {
     "name": "stdout",
     "output_type": "stream",
     "text": [
      "DataFrame information:\n",
      "<class 'pandas.core.frame.DataFrame'>\n",
      "RangeIndex: 595 entries, 0 to 594\n",
      "Data columns (total 7 columns):\n",
      " #   Column      Non-Null Count  Dtype  \n",
      "---  ------      --------------  -----  \n",
      " 0   Unnamed: 0  87 non-null     object \n",
      " 1   รายการ      567 non-null    object \n",
      " 2   จำนวน       446 non-null    object \n",
      " 3   หน่วย       444 non-null    object \n",
      " 4   ราคาวัสดุ   430 non-null    object \n",
      " 5   ค่าแรงงาน   353 non-null    object \n",
      " 6   Unnamed: 6  591 non-null    float64\n",
      "dtypes: float64(1), object(6)\n",
      "memory usage: 32.7+ KB\n"
     ]
    },
    {
     "data": {
      "text/plain": [
       "None"
      ]
     },
     "metadata": {},
     "output_type": "display_data"
    },
    {
     "name": "stdout",
     "output_type": "stream",
     "text": [
      "\n",
      "DataFrame statistics:\n"
     ]
    },
    {
     "data": {
      "text/html": [
       "<div>\n",
       "<style scoped>\n",
       "    .dataframe tbody tr th:only-of-type {\n",
       "        vertical-align: middle;\n",
       "    }\n",
       "\n",
       "    .dataframe tbody tr th {\n",
       "        vertical-align: top;\n",
       "    }\n",
       "\n",
       "    .dataframe thead th {\n",
       "        text-align: right;\n",
       "    }\n",
       "</style>\n",
       "<table border=\"1\" class=\"dataframe\">\n",
       "  <thead>\n",
       "    <tr style=\"text-align: right;\">\n",
       "      <th></th>\n",
       "      <th>Unnamed: 6</th>\n",
       "    </tr>\n",
       "  </thead>\n",
       "  <tbody>\n",
       "    <tr>\n",
       "      <th>count</th>\n",
       "      <td>591.000000</td>\n",
       "    </tr>\n",
       "    <tr>\n",
       "      <th>mean</th>\n",
       "      <td>2226.397631</td>\n",
       "    </tr>\n",
       "    <tr>\n",
       "      <th>std</th>\n",
       "      <td>265.365171</td>\n",
       "    </tr>\n",
       "    <tr>\n",
       "      <th>min</th>\n",
       "      <td>2020.000000</td>\n",
       "    </tr>\n",
       "    <tr>\n",
       "      <th>25%</th>\n",
       "      <td>2020.000000</td>\n",
       "    </tr>\n",
       "    <tr>\n",
       "      <th>50%</th>\n",
       "      <td>2020.000000</td>\n",
       "    </tr>\n",
       "    <tr>\n",
       "      <th>75%</th>\n",
       "      <td>2567.000000</td>\n",
       "    </tr>\n",
       "    <tr>\n",
       "      <th>max</th>\n",
       "      <td>2567.000000</td>\n",
       "    </tr>\n",
       "  </tbody>\n",
       "</table>\n",
       "</div>"
      ],
      "text/plain": [
       "        Unnamed: 6\n",
       "count   591.000000\n",
       "mean   2226.397631\n",
       "std     265.365171\n",
       "min    2020.000000\n",
       "25%    2020.000000\n",
       "50%    2020.000000\n",
       "75%    2567.000000\n",
       "max    2567.000000"
      ]
     },
     "metadata": {},
     "output_type": "display_data"
    },
    {
     "name": "stdout",
     "output_type": "stream",
     "text": [
      "\n",
      "Column names:\n"
     ]
    },
    {
     "data": {
      "text/plain": [
       "['Unnamed: 0',\n",
       " 'รายการ',\n",
       " 'จำนวน',\n",
       " 'หน่วย',\n",
       " 'ราคาวัสดุ',\n",
       " 'ค่าแรงงาน',\n",
       " 'Unnamed: 6']"
      ]
     },
     "metadata": {},
     "output_type": "display_data"
    }
   ],
   "source": [
    "# Basic data exploration\n",
    "if 'df' in locals():\n",
    "    print(\"DataFrame information:\")\n",
    "    display(df.info())\n",
    "    \n",
    "    print(\"\\nDataFrame statistics:\")\n",
    "    display(df.describe())\n",
    "    \n",
    "    print(\"\\nColumn names:\")\n",
    "    display(df.columns.tolist())"
   ]
  },
  {
   "cell_type": "code",
   "execution_count": 4,
   "id": "18d03448",
   "metadata": {},
   "outputs": [
    {
     "name": "stdout",
     "output_type": "stream",
     "text": [
      "NaN count before replacement:\n"
     ]
    },
    {
     "data": {
      "text/plain": [
       "Unnamed: 0    508\n",
       "รายการ         28\n",
       "จำนวน         149\n",
       "หน่วย         151\n",
       "ราคาวัสดุ     165\n",
       "ค่าแรงงาน     242\n",
       "Unnamed: 6      4\n",
       "dtype: int64"
      ]
     },
     "metadata": {},
     "output_type": "display_data"
    },
    {
     "name": "stdout",
     "output_type": "stream",
     "text": [
      "\n",
      "Empty string count before replacement:\n"
     ]
    },
    {
     "data": {
      "text/plain": [
       "Unnamed: 0    0\n",
       "รายการ        0\n",
       "จำนวน         0\n",
       "หน่วย         0\n",
       "ราคาวัสดุ     0\n",
       "ค่าแรงงาน     0\n",
       "Unnamed: 6    0\n",
       "dtype: int64"
      ]
     },
     "metadata": {},
     "output_type": "display_data"
    },
    {
     "name": "stdout",
     "output_type": "stream",
     "text": [
      "\n",
      "DataFrame after replacing NaN and empty values with '-':\n"
     ]
    },
    {
     "data": {
      "text/html": [
       "<div>\n",
       "<style scoped>\n",
       "    .dataframe tbody tr th:only-of-type {\n",
       "        vertical-align: middle;\n",
       "    }\n",
       "\n",
       "    .dataframe tbody tr th {\n",
       "        vertical-align: top;\n",
       "    }\n",
       "\n",
       "    .dataframe thead th {\n",
       "        text-align: right;\n",
       "    }\n",
       "</style>\n",
       "<table border=\"1\" class=\"dataframe\">\n",
       "  <thead>\n",
       "    <tr style=\"text-align: right;\">\n",
       "      <th></th>\n",
       "      <th>Unnamed: 0</th>\n",
       "      <th>รายการ</th>\n",
       "      <th>จำนวน</th>\n",
       "      <th>หน่วย</th>\n",
       "      <th>ราคาวัสดุ</th>\n",
       "      <th>ค่าแรงงาน</th>\n",
       "      <th>Unnamed: 6</th>\n",
       "    </tr>\n",
       "  </thead>\n",
       "  <tbody>\n",
       "    <tr>\n",
       "      <th>0</th>\n",
       "      <td>โรงอาหาร</td>\n",
       "      <td>งานรื้อถอนและเตรียมพื้นที่</td>\n",
       "      <td>-</td>\n",
       "      <td>-</td>\n",
       "      <td>-</td>\n",
       "      <td>-</td>\n",
       "      <td>2020.0</td>\n",
       "    </tr>\n",
       "    <tr>\n",
       "      <th>1</th>\n",
       "      <td>-</td>\n",
       "      <td>รื้อถอนโครงสร้างพื้น คาน เสา</td>\n",
       "      <td>1</td>\n",
       "      <td>ตร.ม.</td>\n",
       "      <td>-</td>\n",
       "      <td>250</td>\n",
       "      <td>2020.0</td>\n",
       "    </tr>\n",
       "    <tr>\n",
       "      <th>2</th>\n",
       "      <td>-</td>\n",
       "      <td>รื้อถอนเสาโครงสร้าง</td>\n",
       "      <td>1</td>\n",
       "      <td>ต้น</td>\n",
       "      <td>-</td>\n",
       "      <td>1000</td>\n",
       "      <td>2020.0</td>\n",
       "    </tr>\n",
       "    <tr>\n",
       "      <th>3</th>\n",
       "      <td>-</td>\n",
       "      <td>รื้อถอนโครงสร้างหลังคา</td>\n",
       "      <td>1</td>\n",
       "      <td>ตร.ม.</td>\n",
       "      <td>-</td>\n",
       "      <td>50</td>\n",
       "      <td>2020.0</td>\n",
       "    </tr>\n",
       "    <tr>\n",
       "      <th>4</th>\n",
       "      <td>-</td>\n",
       "      <td>รื้อถอนวัสดุมุง</td>\n",
       "      <td>1</td>\n",
       "      <td>ตร.ม.</td>\n",
       "      <td>-</td>\n",
       "      <td>25</td>\n",
       "      <td>2020.0</td>\n",
       "    </tr>\n",
       "  </tbody>\n",
       "</table>\n",
       "</div>"
      ],
      "text/plain": [
       "  Unnamed: 0                        รายการ จำนวน  หน่วย ราคาวัสดุ ค่าแรงงาน  \\\n",
       "0   โรงอาหาร    งานรื้อถอนและเตรียมพื้นที่     -      -         -         -   \n",
       "1          -  รื้อถอนโครงสร้างพื้น คาน เสา     1  ตร.ม.         -       250   \n",
       "2          -           รื้อถอนเสาโครงสร้าง     1    ต้น         -      1000   \n",
       "3          -        รื้อถอนโครงสร้างหลังคา     1  ตร.ม.         -        50   \n",
       "4          -               รื้อถอนวัสดุมุง     1  ตร.ม.         -        25   \n",
       "\n",
       "  Unnamed: 6  \n",
       "0     2020.0  \n",
       "1     2020.0  \n",
       "2     2020.0  \n",
       "3     2020.0  \n",
       "4     2020.0  "
      ]
     },
     "metadata": {},
     "output_type": "display_data"
    },
    {
     "name": "stdout",
     "output_type": "stream",
     "text": [
      "\n",
      "NaN count after replacement:\n"
     ]
    },
    {
     "data": {
      "text/plain": [
       "Unnamed: 0    0\n",
       "รายการ        0\n",
       "จำนวน         0\n",
       "หน่วย         0\n",
       "ราคาวัสดุ     0\n",
       "ค่าแรงงาน     0\n",
       "Unnamed: 6    0\n",
       "dtype: int64"
      ]
     },
     "metadata": {},
     "output_type": "display_data"
    }
   ],
   "source": [
    "# Check for NaN or empty values in the DataFrame\n",
    "if 'df' in locals():\n",
    "    # Count NaN values in each column before replacement\n",
    "    nan_count_before = df.isna().sum()\n",
    "    print(\"NaN count before replacement:\")\n",
    "    display(nan_count_before)\n",
    "    \n",
    "    # Count empty string values in each column before replacement\n",
    "    empty_count_before = (df == '').sum()\n",
    "    print(\"\\nEmpty string count before replacement:\")\n",
    "    display(empty_count_before)\n",
    "    \n",
    "    # Replace NaN and empty strings with '-'\n",
    "    df_clean = df.fillna('-')  # Replace NaN values with '-'\n",
    "    \n",
    "    # Replace empty strings with '-'\n",
    "    for column in df_clean.columns:\n",
    "        # Check if the column is of object dtype (string/object columns)\n",
    "        if df_clean[column].dtype == 'object':\n",
    "            df_clean[column] = df_clean[column].apply(lambda x: '-' if x == '' else x)\n",
    "    \n",
    "    print(\"\\nDataFrame after replacing NaN and empty values with '-':\")\n",
    "    display(df_clean.head())\n",
    "    \n",
    "    # Verify no NaN values remain\n",
    "    nan_count_after = df_clean.isna().sum()\n",
    "    print(\"\\nNaN count after replacement:\")\n",
    "    display(nan_count_after)"
   ]
  },
  {
   "cell_type": "code",
   "execution_count": 5,
   "id": "1ad6e389",
   "metadata": {},
   "outputs": [
    {
     "name": "stdout",
     "output_type": "stream",
     "text": [
      "Cleaned data saved to bq_cleaned.xlsx\n"
     ]
    }
   ],
   "source": [
    "# Save the cleaned DataFrame to a new Excel file (optional)\n",
    "if 'df_clean' in locals():\n",
    "    output_file = 'bq_cleaned.xlsx'\n",
    "    df_clean.to_excel(output_file, index=False)\n",
    "    print(f\"Cleaned data saved to {output_file}\")"
   ]
  },
  {
   "cell_type": "code",
   "execution_count": null,
   "id": "2075a5b5",
   "metadata": {},
   "outputs": [],
   "source": []
  }
 ],
 "metadata": {
  "kernelspec": {
   "display_name": "base",
   "language": "python",
   "name": "python3"
  },
  "language_info": {
   "codemirror_mode": {
    "name": "ipython",
    "version": 3
   },
   "file_extension": ".py",
   "mimetype": "text/x-python",
   "name": "python",
   "nbconvert_exporter": "python",
   "pygments_lexer": "ipython3",
   "version": "3.12.7"
  }
 },
 "nbformat": 4,
 "nbformat_minor": 5
}
